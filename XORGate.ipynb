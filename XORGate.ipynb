{
 "cells": [
  {
   "cell_type": "code",
   "execution_count": 20,
   "metadata": {},
   "outputs": [],
   "source": [
    "import numpy as np \n",
    "import matplotlib.pyplot as plt"
   ]
  },
  {
   "cell_type": "code",
   "execution_count": 21,
   "metadata": {},
   "outputs": [],
   "source": [
    "def sigmoid (x):\n",
    "    return 1/(1 + np.exp(-x))\n",
    "\n",
    "def sigmoid_derivative(x):\n",
    "    return x * (1 - x)"
   ]
  },
  {
   "cell_type": "code",
   "execution_count": 36,
   "metadata": {},
   "outputs": [],
   "source": [
    "#Input datasets\n",
    "inputs = np.array([[0,0],[0,1],[1,0],[1,1]])\n",
    "expected_output = np.array([[0],[1],[1],[0]])\n",
    "E = []\n",
    "epochs = 15000\n",
    "lr = 0.1\n",
    "inputLayerNeurons, hiddenLayerNeurons, outputLayerNeurons = 2,2,1"
   ]
  },
  {
   "cell_type": "code",
   "execution_count": 37,
   "metadata": {},
   "outputs": [
    {
     "name": "stderr",
     "output_type": "stream",
     "text": [
      "C:\\Users\\Paarth\\Documents\\Downloads\\lib\\site-packages\\ipykernel_launcher.py:4: MatplotlibDeprecationWarning: Adding an axes using the same arguments as a previous axes currently reuses the earlier instance.  In a future version, a new instance will always be created and returned.  Meanwhile, this warning can be suppressed, and the future behavior ensured, by passing a unique label to each axes instance.\n",
      "  after removing the cwd from sys.path.\n"
     ]
    },
    {
     "data": {
      "image/png": "[encoded data removed]",
      "text/plain": [
       "<Figure size 432x432 with 1 Axes>"
      ]
     },
     "metadata": {
      "needs_background": "light"
     },
     "output_type": "display_data"
    }
   ],
   "source": [
    "area = 200\n",
    "fig = plt.figure(figsize=(6, 6))\n",
    "plt.title('The XOR Gate', fontsize=20)\n",
    "ax = fig.add_subplot(111)\n",
    "# color red: is class 0 and color blue is class 1.\n",
    "ax.scatter(0, 0, s=area, c='r', label=\"Class 0\")\n",
    "ax.scatter(0, 5, s=area, c='b', label=\"Class 1\")\n",
    "ax.scatter(5, 0, s=area, c='b', label=\"Class 1\")\n",
    "ax.scatter(5, 5, s=area, c='r', label=\"Class 0\")\n",
    "plt.grid()\n",
    "plt.show()"
   ]
  },
  {
   "cell_type": "code",
   "execution_count": 38,
   "metadata": {},
   "outputs": [
    {
     "name": "stdout",
     "output_type": "stream",
     "text": [
      "Initial hidden weights: [0.03419161 0.2277246 ] [0.5603187  0.89607057]\n",
      "Initial hidden biases: [0.10264377 0.70825103]\n",
      "Initial output weights: [0.10701076] [0.41722486]\n",
      "Initial output biases: [0.27806097]\n"
     ]
    }
   ],
   "source": [
    "#Random weights and bias initialization\n",
    "hidden_weights = np.random.uniform(size=(inputLayerNeurons,hiddenLayerNeurons))\n",
    "hidden_bias =np.random.uniform(size=(1,hiddenLayerNeurons))\n",
    "output_weights = np.random.uniform(size=(hiddenLayerNeurons,outputLayerNeurons))\n",
    "output_bias = np.random.uniform(size=(1,outputLayerNeurons))\n",
    "\n",
    "print(\"Initial hidden weights: \",end='')\n",
    "print(*hidden_weights)\n",
    "print(\"Initial hidden biases: \",end='')\n",
    "print(*hidden_bias)\n",
    "print(\"Initial output weights: \",end='')\n",
    "print(*output_weights)\n",
    "print(\"Initial output biases: \",end='')\n",
    "print(*output_bias)"
   ]
  },
  {
   "cell_type": "code",
   "execution_count": 39,
   "metadata": {},
   "outputs": [
    {
     "name": "stdout",
     "output_type": "stream",
     "text": [
      "Iteration: [0]\n",
      "Error: [0.4995287849858414]\n",
      "Iteration: [1000]\n",
      "Error: [0.49891211419407344]\n",
      "Iteration: [2000]\n",
      "Error: [0.4919851245098428]\n",
      "Iteration: [3000]\n",
      "Error: [0.44347287397182616]\n",
      "Iteration: [4000]\n",
      "Error: [0.3705695639767619]\n",
      "Iteration: [5000]\n",
      "Error: [0.21408076130616366]\n",
      "Iteration: [6000]\n",
      "Error: [0.1252258417903922]\n",
      "Iteration: [7000]\n",
      "Error: [0.0921001510194301]\n",
      "Iteration: [8000]\n",
      "Error: [0.07502468240217341]\n",
      "Iteration: [9000]\n",
      "Error: [0.06444225101713671]\n",
      "Iteration: [10000]\n",
      "Error: [0.0571437176688273]\n",
      "Iteration: [11000]\n",
      "Error: [0.05175176167105067]\n",
      "Iteration: [12000]\n",
      "Error: [0.04757381217897534]\n",
      "Iteration: [13000]\n",
      "Error: [0.044221510315663556]\n",
      "Iteration: [14000]\n",
      "Error: [0.04145909569236695]\n"
     ]
    }
   ],
   "source": [
    "#Training algorithm\n",
    "for i in range(epochs):\n",
    "    #Forward Propagation\n",
    "    hidden_layer_activation = np.dot(inputs,hidden_weights)\n",
    "    hidden_layer_activation += hidden_bias\n",
    "    hidden_layer_output = sigmoid(hidden_layer_activation)\n",
    "\n",
    "    output_layer_activation = np.dot(hidden_layer_output,output_weights)\n",
    "    output_layer_activation += output_bias\n",
    "    predicted_output = sigmoid(output_layer_activation)\n",
    "\n",
    "    #Backpropagation\n",
    "    error = expected_output - predicted_output\n",
    "    d_predicted_output = error * sigmoid_derivative(predicted_output)\n",
    "    \n",
    "    error_hidden_layer = d_predicted_output.dot(output_weights.T)\n",
    "    d_hidden_layer = error_hidden_layer * sigmoid_derivative(hidden_layer_output)\n",
    "\n",
    "    #Updating Weights and Biases\n",
    "    output_weights += hidden_layer_output.T.dot(d_predicted_output) * lr\n",
    "    output_bias += np.sum(d_predicted_output,axis=0,keepdims=True) * lr\n",
    "    hidden_weights += inputs.T.dot(d_hidden_layer) * lr\n",
    "    hidden_bias += np.sum(d_hidden_layer,axis=0,keepdims=True) * lr\n",
    "    e = np.mean(np.abs(error))\n",
    "    E.append(e)\n",
    "    if i%1000 == 0:\n",
    "        print(\"Iteration:\",[i]) \n",
    "        print(\"Error:\", [e])\n",
    "        "
   ]
  },
  {
   "cell_type": "code",
   "execution_count": 40,
   "metadata": {},
   "outputs": [
    {
     "name": "stdout",
     "output_type": "stream",
     "text": [
      "Final hidden weights: [3.97321162 5.98181935] [3.98885385 6.05448278]\n",
      "Final hidden bias: [-6.10713608 -2.58014644]\n",
      "Final output weights: [-8.81564182] [8.12170393]\n",
      "Final output bias: [-3.68282555]\n",
      "\n",
      "Output from neural network after 15,000 epochs: [[0.]\n",
      " [1.]\n",
      " [1.]\n",
      " [0.]]\n"
     ]
    }
   ],
   "source": [
    "print(\"Final hidden weights: \",end='')\n",
    "print(*hidden_weights)\n",
    "print(\"Final hidden bias: \",end='')\n",
    "print(*hidden_bias)\n",
    "print(\"Final output weights: \",end='')\n",
    "print(*output_weights)\n",
    "print(\"Final output bias: \",end='')\n",
    "print(*output_bias)\n",
    "\n",
    "print(\"\\nOutput from neural network after 15,000 epochs: \",end='')\n",
    "print(np.round(predicted_output))\n"
   ]
  },
  {
   "cell_type": "code",
   "execution_count": 43,
   "metadata": {},
   "outputs": [
    {
     "data": {
      "image/png": "[encoded data removed]",
      "text/plain": [
       "<Figure size 432x288 with 1 Axes>"
      ]
     },
     "metadata": {
      "needs_background": "light"
     },
     "output_type": "display_data"
    }
   ],
   "source": [
    "#plotting error vs epochs\n",
    "plt.figure()\n",
    "plt.grid()\n",
    "plt.xlabel(\"Epoch\")\n",
    "plt.ylabel(\"Error\")\n",
    "plt.plot(E, c='r')\n",
    "plt.show()"
   ]
  },
  {
   "cell_type": "code",
   "execution_count": null,
   "metadata": {},
   "outputs": [],
   "source": []
  }
 ],
 "metadata": {
  "kernelspec": {
   "display_name": "Python 3",
   "language": "python",
   "name": "python3"
  },
  "language_info": {
   "codemirror_mode": {
    "name": "ipython",
    "version": 3
   },
   "file_extension": ".py",
   "mimetype": "text/x-python",
   "name": "python",
   "nbconvert_exporter": "python",
   "pygments_lexer": "ipython3",
   "version": "3.7.6"
  }
 },
 "nbformat": 4,
 "nbformat_minor": 4
}
